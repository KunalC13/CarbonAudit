{
 "cells": [
  {
   "cell_type": "code",
   "execution_count": 7,
   "metadata": {},
   "outputs": [],
   "source": [
    "import re\n",
    "def calculate_molar_mass(formula):\n",
    "    elements = re.findall(r'([A-Z][a-z]*)(\\d*)', formula)\n",
    "    molar_mass = 0\n",
    "    for (element, count) in elements:\n",
    "        count = int(count) if count else 1\n",
    "        if element == 'C':\n",
    "            molar_mass += count * 12.01\n",
    "        elif element == 'H':\n",
    "            molar_mass += count * 1.01\n",
    "        elif element == 'O':\n",
    "            molar_mass += count * 16.00\n",
    "    return molar_mass"
   ]
  },
  {
   "cell_type": "code",
   "execution_count": 8,
   "metadata": {},
   "outputs": [],
   "source": [
    "def grams_CO2_produced(reactant_formula, product_CO2_moles):\n",
    "    molar_mass_CO2 = 12.01 + (2 * 16.00)\n",
    "    return product_CO2_moles * molar_mass_CO2"
   ]
  },
  {
   "cell_type": "code",
   "execution_count": 9,
   "metadata": {},
   "outputs": [
    {
     "name": "stdout",
     "output_type": "stream",
     "text": [
      "Molar mass of C8H18: 114.26 g/mol\n",
      "Grams of CO2 per mole of C8H18: 352.08 g\n",
      "Energy content of C8H18: 33.30 MJ/L\n",
      "Energy content of C8H18: 9.25 kWh/L\n"
     ]
    }
   ],
   "source": [
    "def perform_combustion_calculations():\n",
    "    reactant_formula = input(\"Enter the chemical formula of the fuel: \")\n",
    "    product_CO2_moles = int(input(\"Enter the number of moles of CO2 produced per mole of fuel: \"))\n",
    "    LHV = float(input(\"Enter the lower heating value (LHV) of the fuel in MJ/kg: \"))\n",
    "    density = float(input(\"Enter the density of the fuel in kg/L: \"))\n",
    "\n",
    "    molar_mass_fuel = calculate_molar_mass(reactant_formula)\n",
    "    print(f\"Molar mass of {reactant_formula}: {molar_mass_fuel:.2f} g/mol\")\n",
    "\n",
    "    grams_CO2 = grams_CO2_produced(reactant_formula, product_CO2_moles)\n",
    "    print(f\"Grams of CO2 per mole of {reactant_formula}: {grams_CO2:.2f} g\")\n",
    "\n",
    "    energy_per_liter = LHV * density\n",
    "    print(f\"Energy content of {reactant_formula}: {energy_per_liter:.2f} MJ/L\")\n",
    "\n",
    "    MJ_to_kWh = 1 / 3.6  \n",
    "    energy_per_liter_kWh = energy_per_liter * MJ_to_kWh\n",
    "    print(f\"Energy content of {reactant_formula}: {energy_per_liter_kWh:.2f} kWh/L\")\n",
    "\n",
    "perform_combustion_calculations()"
   ]
  },
  {
   "cell_type": "code",
   "execution_count": null,
   "metadata": {},
   "outputs": [],
   "source": [
    "# Input parameters\n",
    "# C8H18\n",
    "# 8\n",
    "# 44.4\n",
    "# 0.75\n",
    "\n"
   ]
  },
  {
   "cell_type": "code",
   "execution_count": null,
   "metadata": {},
   "outputs": [],
   "source": [
    "import re\n",
    "import pandas as pd\n",
    "\n",
    "def calculate_molar_mass(formula):\n",
    "    elements = re.findall(r'([A-Z][a-z]*)(\\d*)', formula)\n",
    "    molar_mass = 0\n",
    "    for (element, count) in elements:\n",
    "        count = int(count) if count else 1\n",
    "        if element == 'C':\n",
    "            molar_mass += count * 12.01\n",
    "        elif element == 'H':\n",
    "            molar_mass += count * 1.01\n",
    "        elif element == 'O':\n",
    "            molar_mass += count * 16.00\n",
    "    return molar_mass\n"
   ]
  },
  {
   "cell_type": "code",
   "execution_count": 6,
   "metadata": {},
   "outputs": [],
   "source": [
    "def grams_CO2_produced(reactant_formula, product_CO2_moles):\n",
    "    molar_mass_CO2 = 12.01 + (2 * 16.00)\n",
    "    return product_CO2_moles * molar_mass_CO2"
   ]
  },
  {
   "cell_type": "code",
   "execution_count": null,
   "metadata": {},
   "outputs": [],
   "source": [
    "data = {\n",
    "    'Fuel': ['Methane', 'Ethanol', 'Propane', 'Octane'],\n",
    "    'Formula': ['CH4', 'C2H5OH', 'C3H8', 'C8H18'],\n",
    "    'CO2_Moles_per_Fuel_Mole': [1, 2, 3, 8],\n",
    "    'LHV_MJ_per_kg': [50.0, 26.8, 46.4, 44.4],\n",
    "    'Density_kg_per_L': [0.000656, 0.789, 0.493, 0.703]\n",
    "}\n"
   ]
  },
  {
   "cell_type": "code",
   "execution_count": null,
   "metadata": {},
   "outputs": [],
   "source": [
    "df = pd.DataFrame(data)\n",
    "\n",
    "df['Molar_Mass_g_per_mol'] = df['Formula'].apply(calculate_molar_mass)\n",
    "df['CO2_Produced_g_per_mol'] = df.apply(lambda row: grams_CO2_produced(row['Formula'], row['CO2_Moles_per_Fuel_Mole']), axis=1)\n",
    "df['Energy_Content_MJ_per_L'] = df['LHV_MJ_per_kg'] * df['Density_kg_per_L']\n",
    "df['Energy_Content_kWh_per_L'] = df['Energy_Content_MJ_per_L'] / 3.6\n",
    "\n",
    "print(df)"
   ]
  }
 ],
 "metadata": {
  "kernelspec": {
   "display_name": "Python 3",
   "language": "python",
   "name": "python3"
  },
  "language_info": {
   "codemirror_mode": {
    "name": "ipython",
    "version": 3
   },
   "file_extension": ".py",
   "mimetype": "text/x-python",
   "name": "python",
   "nbconvert_exporter": "python",
   "pygments_lexer": "ipython3",
   "version": "3.12.1"
  }
 },
 "nbformat": 4,
 "nbformat_minor": 2
}
